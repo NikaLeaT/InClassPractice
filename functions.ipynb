{
 "cells": [
  {
   "cell_type": "markdown",
   "id": "3ba0ac63",
   "metadata": {},
   "source": [
    "Functions"
   ]
  },
  {
   "cell_type": "code",
   "execution_count": 11,
   "id": "a5abb38c",
   "metadata": {},
   "outputs": [],
   "source": [
    "def greet_user(username: str):\n",
    "    \"\"\"Display a simple greeting.\"\"\"\n",
    "    return f\"Hello, {username}!\""
   ]
  },
  {
   "cell_type": "markdown",
   "id": "a961eca5",
   "metadata": {},
   "source": [
    "python uses white space to define scope, similar to for loops with the indents\n",
    "\n",
    "when ur defining a function, you need () after the name of function\n",
    "- (username: str) means you can define the variable type with the accompanying str that's introduced by a colon\n",
    "\n",
    "body of the function starts after you define it and indent the line, the triple quote string is called\n",
    "doc strings are good illustrations to document functions, not part of function body its more\n",
    "so documentation, doc string will be tied to function and can only appear at that spot\n",
    "\n",
    "printing is a side effect, not changing code directly, just causing something to happen"
   ]
  },
  {
   "cell_type": "markdown",
   "id": "b505557a",
   "metadata": {},
   "source": [
    "we got the return value instead of a printed string, u can use this in other functions"
   ]
  },
  {
   "cell_type": "code",
   "execution_count": null,
   "id": "90287060",
   "metadata": {},
   "outputs": [],
   "source": [
    "def print_user_greeting(username: str):\n",
    "    print(greet_user(username)) #same as print(f\"\"Hello, abc!\") already going to be str that's result "
   ]
  },
  {
   "cell_type": "markdown",
   "id": "54fc33e8",
   "metadata": {},
   "source": [
    "quotes disappear bc we're returning result of greet user instead of printing a str"
   ]
  },
  {
   "cell_type": "code",
   "execution_count": 18,
   "id": "ca3d1626",
   "metadata": {},
   "outputs": [],
   "source": [
    "def print_return(username: str):\n",
    "    print(print_user_greeting(username))"
   ]
  },
  {
   "cell_type": "code",
   "execution_count": 20,
   "id": "32b0698b",
   "metadata": {},
   "outputs": [
    {
     "name": "stdout",
     "output_type": "stream",
     "text": [
      "Hello, abc!\n",
      "None\n"
     ]
    }
   ],
   "source": [
    "print_return(\"abc\")"
   ]
  },
  {
   "cell_type": "markdown",
   "id": "256f70d8",
   "metadata": {},
   "source": [
    "we receive none. print user greeting is still being run, when we print the result we get none because print returns none always\n",
    "print debugging is helpful, helps you check something\n",
    "make sure ur not wrapping the end value of the statemnt, then you'd just get none"
   ]
  },
  {
   "cell_type": "code",
   "execution_count": 23,
   "id": "eac5cd30",
   "metadata": {},
   "outputs": [],
   "source": [
    "def describe_pet(animal_type: str, pet_name: str):\n",
    "    return f\"My {animal_type} is {pet_name.title()}.\""
   ]
  },
  {
   "cell_type": "code",
   "execution_count": 26,
   "id": "da241025",
   "metadata": {},
   "outputs": [
    {
     "data": {
      "text/plain": [
       "'My dog is Alvin Underfoot.'"
      ]
     },
     "execution_count": 26,
     "metadata": {},
     "output_type": "execute_result"
    }
   ],
   "source": [
    "describe_pet(\"dog\", \"alvin underfoot\")"
   ]
  },
  {
   "cell_type": "code",
   "execution_count": 25,
   "id": "f51a019a",
   "metadata": {},
   "outputs": [
    {
     "data": {
      "text/plain": [
       "'My alvin is Dog.'"
      ]
     },
     "execution_count": 25,
     "metadata": {},
     "output_type": "execute_result"
    }
   ],
   "source": [
    "describe_pet(\"alvin\", \"dog\")"
   ]
  }
 ],
 "metadata": {
  "kernelspec": {
   "display_name": "Python 3",
   "language": "python",
   "name": "python3"
  },
  "language_info": {
   "codemirror_mode": {
    "name": "ipython",
    "version": 3
   },
   "file_extension": ".py",
   "mimetype": "text/x-python",
   "name": "python",
   "nbconvert_exporter": "python",
   "pygments_lexer": "ipython3",
   "version": "3.12.1"
  }
 },
 "nbformat": 4,
 "nbformat_minor": 5
}
